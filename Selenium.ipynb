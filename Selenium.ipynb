{
 "cells": [
  {
   "cell_type": "code",
   "execution_count": 1,
   "id": "0b95f3a8",
   "metadata": {
    "scrolled": true
   },
   "outputs": [
    {
     "name": "stdout",
     "output_type": "stream",
     "text": [
      "ukrain\n",
      "ukrain\n"
     ]
    },
    {
     "name": "stderr",
     "output_type": "stream",
     "text": [
      "/tmp/ipykernel_16959/3388539219.py:47: DeprecationWarning: executable_path has been deprecated, please pass in a Service object\n",
      "  driver = webdriver.Chrome('/usr/bin/chromedriver')\n",
      "/tmp/ipykernel_16959/3388539219.py:49: DeprecationWarning: find_element_by_* commands are deprecated. Please use find_element() instead\n",
      "  text_box = driver.find_element_by_class_name('hamburger')\n",
      "/tmp/ipykernel_16959/3388539219.py:51: DeprecationWarning: find_element_by_* commands are deprecated. Please use find_element() instead\n",
      "  box = driver.find_element_by_name('q')\n",
      "/tmp/ipykernel_16959/3388539219.py:55: DeprecationWarning: find_element_by_* commands are deprecated. Please use find_element() instead\n",
      "  driver.find_element_by_class_name('search-button-icon').click()\n"
     ]
    }
   ],
   "source": [
    "from selenium import webdriver\n",
    "from webdriver_manager.chrome import ChromeDriverManager\n",
    "from bs4 import BeautifulSoup\n",
    "import pandas as pd\n",
    "import csv\n",
    "import time as tm\n",
    "def Draw_DataFrame(d):\n",
    "    field_names = ['title', 'link', 'image','new_text']\n",
    "    with open('test.csv', 'w') as csvfile:\n",
    "        writer = csv.DictWriter(csvfile, fieldnames = field_names)\n",
    "        writer.writeheader()\n",
    "        writer.writerows(d)\n",
    "        \n",
    "    \n",
    "    \n",
    "def Scrap(driver):\n",
    "    url1 = BeautifulSoup(driver.page_source,'html.parser')\n",
    "    cnt=0\n",
    "    data_list=[]\n",
    "    for i in url1.select('div.gsc-webResult'):\n",
    "        \n",
    "        if(cnt>=2):\n",
    "            \n",
    "            link = str(i.a['data-ctorig'])\n",
    "            title = str(i.a.get_text())\n",
    "            image = \"\"\n",
    "            new_text = \"\"\n",
    "            \n",
    "            for k in i.select(\"div.gs-snippet\"):\n",
    "                new_text+=str(k.get_text())\n",
    "            try:\n",
    "                image+=str(i.img['src'])\n",
    "            except TypeError:\n",
    "                image+=str(\"\")\n",
    "            d1={\n",
    "                \"title\":title,\n",
    "                \"link\":link,\n",
    "                \"image\":image,\n",
    "                \"new_text\":new_text\n",
    "            }\n",
    "            data_list.append(d1) \n",
    "        cnt+=1\n",
    "        tm.sleep(5)\n",
    "        Draw_DataFrame(data_list)\n",
    "        \n",
    "def NBC_News(search_str):\n",
    "    driver = webdriver.Chrome('/usr/bin/chromedriver')\n",
    "    driver.get('https://www.nbcnews.com/')\n",
    "    text_box = driver.find_element_by_class_name('hamburger')\n",
    "    text_box.click()\n",
    "    box = driver.find_element_by_name('q')\n",
    "    box.send_keys(search_str)\n",
    "    tm.sleep(10)\n",
    "    try:\n",
    "        driver.find_element_by_class_name('search-button-icon').click()\n",
    "        Scrap(driver)\n",
    "    except ElementNotInteractableException :\n",
    "        tm.sleep(15)\n",
    "        NBC_News(search_str)\n",
    "\n",
    "search_str = input()\n",
    "print(search_str)\n",
    "NBC_News(search_str)"
   ]
  },
  {
   "cell_type": "code",
   "execution_count": null,
   "id": "d0a653d2",
   "metadata": {},
   "outputs": [],
   "source": []
  }
 ],
 "metadata": {
  "kernelspec": {
   "display_name": "Python 3 (ipykernel)",
   "language": "python",
   "name": "python3"
  },
  "language_info": {
   "codemirror_mode": {
    "name": "ipython",
    "version": 3
   },
   "file_extension": ".py",
   "mimetype": "text/x-python",
   "name": "python",
   "nbconvert_exporter": "python",
   "pygments_lexer": "ipython3",
   "version": "3.9.7"
  }
 },
 "nbformat": 4,
 "nbformat_minor": 5
}
