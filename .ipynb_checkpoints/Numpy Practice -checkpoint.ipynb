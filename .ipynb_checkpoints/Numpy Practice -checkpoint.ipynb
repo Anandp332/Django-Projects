{
 "cells": [
  {
   "cell_type": "markdown",
   "id": "ce1fce1a",
   "metadata": {},
   "source": [
    "# Matrix Addition,Substraction"
   ]
  },
  {
   "cell_type": "code",
   "execution_count": 26,
   "id": "0a5a0bd9",
   "metadata": {},
   "outputs": [
    {
     "name": "stdout",
     "output_type": "stream",
     "text": [
      "[[ 8 11]\n",
      " [13 18]]\n"
     ]
    }
   ],
   "source": [
    "def addition(a,b):\n",
    "    return a+b\n",
    "def substraction(a,b):\n",
    "    return a-b\n",
    "def multiplication(a,b):\n",
    "    return np.dot(a,b)\n",
    "    \n",
    "\n",
    "import numpy as np\n",
    "a=[[1,2],[2,3]]\n",
    "b=[[2,3],[3,4]]\n",
    "num_a = np.array(a)\n",
    "num_b = np.array(b)\n",
    "print(addition(num_a,num_b))\n",
    "print(substraction(num_a,num_b))\n",
    "print(multiplication(num_a,num_b))"
   ]
  },
  {
   "cell_type": "code",
   "execution_count": null,
   "id": "808ca806",
   "metadata": {},
   "outputs": [],
   "source": []
  },
  {
   "cell_type": "code",
   "execution_count": null,
   "id": "4d5f5ded",
   "metadata": {},
   "outputs": [],
   "source": []
  }
 ],
 "metadata": {
  "kernelspec": {
   "display_name": "Python 3 (ipykernel)",
   "language": "python",
   "name": "python3"
  },
  "language_info": {
   "codemirror_mode": {
    "name": "ipython",
    "version": 3
   },
   "file_extension": ".py",
   "mimetype": "text/x-python",
   "name": "python",
   "nbconvert_exporter": "python",
   "pygments_lexer": "ipython3",
   "version": "3.9.7"
  }
 },
 "nbformat": 4,
 "nbformat_minor": 5
}
