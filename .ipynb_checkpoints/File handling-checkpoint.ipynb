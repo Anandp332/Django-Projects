{
 "cells": [
  {
   "cell_type": "markdown",
   "id": "251896d8",
   "metadata": {},
   "source": [
    "First 3 lines\n",
    "\n",
    "Given file \"year2017.csv\"\n",
    "It is an open-source database including information on terrorist attacks around the world from 1970 through 2017. This dataset includes systematic data on domestic as well as international terrorist incidents that have occurred during this time period\n",
    "Problem Statement :\n",
    "Open and read the file\n",
    "Print the first 3 rows of the file, excluding header (in different lines)\n",
    "Print columns of one row, separated by space\n",
    "Output Format :\n",
    "col_1 col_2 col_3 col_4 ....\n",
    "col_1 col_2 col_3 col_4 ....\n",
    "col_1 col_2 col_3 col_4 ...."
   ]
  },
  {
   "cell_type": "code",
   "execution_count": 14,
   "id": "9dce0b20",
   "metadata": {},
   "outputs": [
    {
     "name": "stdout",
     "output_type": "stream",
     "text": [
      "2017 1 2 Afghanistan South Asia Takhta Pul 31.320556 65.961111 Hostage Taking (Kidnapping) 0.0 0.0 Construction Workers Taliban Business Firearms 0.0 \n",
      "2017 1 3 Sudan Sub-Saharan Africa Fantaga 12.921007000000001 24.318324 Armed Assault 2.0 0.0 Civilians: Haroun Yousif, Hamid Ibrahim Unknown Private Citizens & Property Firearms 2.0 \n",
      "2017 1 1 Democratic Republic of the Congo Sub-Saharan Africa Saboko 1.452372 29.875162 Armed Assault 7.0 0.0 Village Allied Democratic Forces (ADF) Private Citizens & Property Melee 7.0 \n"
     ]
    }
   ],
   "source": [
    "import csv\n",
    "with open(\"year2017.csv\") as f:\n",
    "    f_data=csv.reader(f)\n",
    "    i=0\n",
    "    for m in f_data:\n",
    "        if(i==0):\n",
    "            pass\n",
    "        elif(i<4):\n",
    "            for j in m:\n",
    "                print(j,end=\" \")\n",
    "            print()\n",
    "        \n",
    "        i+=1"
   ]
  },
  {
   "cell_type": "markdown",
   "id": "69a7427b",
   "metadata": {},
   "source": [
    "Print all column names\n",
    "\n",
    "Given file \"year2017.csv\"\n",
    "It is an open-source database including information on terrorist attacks around the world from 1970 through 2017. This dataset includes systematic data on domestic as well as international terrorist incidents that have occurred during this time period\n",
    "Problem Statement :\n",
    "Open and read the file\n",
    "Print the name of columns (in different lines)\n",
    "Output Format :\n",
    "Column 1\n",
    "Column 2\n",
    "Column 3\n",
    "and so on\n"
   ]
  },
  {
   "cell_type": "code",
   "execution_count": 36,
   "id": "a3e79775",
   "metadata": {},
   "outputs": [
    {
     "name": "stdout",
     "output_type": "stream",
     "text": [
      "Year\n",
      "Month\n",
      "Day\n",
      "Country\n",
      "Region\n",
      "city\n",
      "latitude\n",
      "longitude\n",
      "AttackType\n",
      "Killed\n",
      "Wounded\n",
      "Target\n",
      "Group\n",
      "Target_type\n",
      "Weapon_type\n",
      "casualities\n"
     ]
    }
   ],
   "source": [
    "import csv\n",
    "with open(\"year2017.csv\") as f:\n",
    "    f_data=csv.reader(f)\n",
    "    i=0\n",
    "    for m in f_data:\n",
    "        for k in m:\n",
    "            print(k)\n",
    "        break"
   ]
  },
  {
   "cell_type": "code",
   "execution_count": null,
   "id": "6dd6aa8b",
   "metadata": {},
   "outputs": [],
   "source": []
  }
 ],
 "metadata": {
  "kernelspec": {
   "display_name": "Python 3 (ipykernel)",
   "language": "python",
   "name": "python3"
  },
  "language_info": {
   "codemirror_mode": {
    "name": "ipython",
    "version": 3
   },
   "file_extension": ".py",
   "mimetype": "text/x-python",
   "name": "python",
   "nbconvert_exporter": "python",
   "pygments_lexer": "ipython3",
   "version": "3.9.7"
  }
 },
 "nbformat": 4,
 "nbformat_minor": 5
}
