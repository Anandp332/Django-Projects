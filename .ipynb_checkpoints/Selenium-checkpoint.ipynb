{
 "cells": [
  {
   "cell_type": "code",
   "execution_count": 25,
   "id": "0b95f3a8",
   "metadata": {
    "scrolled": true
   },
   "outputs": [
    {
     "name": "stderr",
     "output_type": "stream",
     "text": [
      "/tmp/ipykernel_107524/1168653037.py:4: DeprecationWarning: executable_path has been deprecated, please pass in a Service object\n",
      "  driver = webdriver.Chrome('/usr/bin/chromedriver')\n"
     ]
    }
   ],
   "source": [
    "from selenium import webdriver\n",
    "from webdriver_manager.chrome import ChromeDriverManager\n",
    "\n",
    "driver = webdriver.Chrome('/usr/bin/chromedriver')"
   ]
  },
  {
   "cell_type": "code",
   "execution_count": 26,
   "id": "3035ebfb",
   "metadata": {},
   "outputs": [],
   "source": [
    "driver.get('https://www.facebook.com/search/top?q=ukraine%20conflict%3A%20%E2%80%98every%20child%20deserves%20to%20live%20in%20a%20free%20country%E2%80%99')"
   ]
  },
  {
   "cell_type": "code",
   "execution_count": 27,
   "id": "8d57fdb2",
   "metadata": {},
   "outputs": [
    {
     "name": "stderr",
     "output_type": "stream",
     "text": [
      "/tmp/ipykernel_107524/1462370009.py:1: DeprecationWarning: find_element_by_* commands are deprecated. Please use find_element() instead\n",
      "  text_box = driver.find_element_by_name('email')\n"
     ]
    }
   ],
   "source": [
    "text_box = driver.find_element_by_name('email')"
   ]
  },
  {
   "cell_type": "code",
   "execution_count": 28,
   "id": "4a48f656",
   "metadata": {},
   "outputs": [],
   "source": [
    "text_box.send_keys('sodeni1355@spruzme.com')"
   ]
  },
  {
   "cell_type": "code",
   "execution_count": 29,
   "id": "30e67a89",
   "metadata": {},
   "outputs": [
    {
     "name": "stderr",
     "output_type": "stream",
     "text": [
      "/tmp/ipykernel_107524/42525990.py:1: DeprecationWarning: find_element_by_* commands are deprecated. Please use find_element() instead\n",
      "  text_box1 = driver.find_element_by_name('pass')\n"
     ]
    }
   ],
   "source": [
    "text_box1 = driver.find_element_by_name('pass')"
   ]
  },
  {
   "cell_type": "code",
   "execution_count": 30,
   "id": "b0cb8c1b",
   "metadata": {},
   "outputs": [],
   "source": [
    "text_box1.send_keys('test@1234')"
   ]
  },
  {
   "cell_type": "code",
   "execution_count": 31,
   "id": "8bc3b463",
   "metadata": {},
   "outputs": [],
   "source": [
    "text_box1.submit()"
   ]
  },
  {
   "cell_type": "code",
   "execution_count": null,
   "id": "2a7d3b72",
   "metadata": {},
   "outputs": [],
   "source": []
  }
 ],
 "metadata": {
  "kernelspec": {
   "display_name": "Python 3 (ipykernel)",
   "language": "python",
   "name": "python3"
  },
  "language_info": {
   "codemirror_mode": {
    "name": "ipython",
    "version": 3
   },
   "file_extension": ".py",
   "mimetype": "text/x-python",
   "name": "python",
   "nbconvert_exporter": "python",
   "pygments_lexer": "ipython3",
   "version": "3.9.7"
  }
 },
 "nbformat": 4,
 "nbformat_minor": 5
}
