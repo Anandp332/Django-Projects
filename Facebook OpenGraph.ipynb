{
 "cells": [
  {
   "cell_type": "code",
   "execution_count": 19,
   "id": "ce3ea554",
   "metadata": {},
   "outputs": [],
   "source": [
    "import requests\n",
    "import json"
   ]
  },
  {
   "cell_type": "code",
   "execution_count": 20,
   "id": "d96c7468",
   "metadata": {},
   "outputs": [],
   "source": [
    "def get_data(url):\n",
    "    data = requests.post(url)\n",
    "    return json.loads(data.text)\n",
    "    \n",
    "    \n",
    "    "
   ]
  },
  {
   "cell_type": "code",
   "execution_count": 30,
   "id": "0ce07695",
   "metadata": {},
   "outputs": [
    {
     "name": "stdout",
     "output_type": "stream",
     "text": [
      "{'status_code': '17', 'status_message': 'Could not parse json', 'request': 'POST /api/v1/search/results?access_token=demo&q=cats&pretty=true', 'result_error': {'data': [{'key': 'error', 'value': ['Error decoding json body']}, {'key': 'refid', 'value': ['@z0bb7njc507x']}]}, 'request_id': '#r83vcdwz29mq#'}\n",
      "{'error': {'message': 'Error validating access token: Session has expired on Tuesday, 01-Mar-22 22:00:00 PST. The current time is Tuesday, 01-Mar-22 22:57:50 PST.', 'type': 'OAuthException', 'code': 190, 'error_subcode': 463, 'fbtrace_id': 'AtrMfa7l_q3q37wnnJMFo6R'}}\n",
      "{'error': {'message': 'Error validating access token: Session has expired on Monday, 28-Feb-22 05:00:00 PST. The current time is Tuesday, 01-Mar-22 22:57:51 PST.', 'type': 'OAuthException', 'code': 190, 'error_subcode': 463, 'fbtrace_id': 'ADYvBDce_j_1h7UjvjWQ3ZI'}}\n"
     ]
    }
   ],
   "source": [
    "lst = ['https://api.talkwalker.com/api/v1/search/results?access_token=demo&q=cats&pretty=true','https://graph.facebook.com/v13.0/?scrape=true&id=http%3A%2F%2Fwww.bbc.co.uk%2F&access_token=EAAEyJgtqwrgBAFJPRyWifYP3F6hZCkCpdtetAa43cyZB2fjp3DWx08WMhdfH21iCoPlKqHwZBrgh8UVr18n6djGHTqSkNzIphvT98shmDOMW5T2fy8iyiRurU2Hu1opBv3TLhvs2tjAJKdaMwS2BckF2WZCvQJxQrBwb0VIwFuXNyk2ht2GgjtCigBBjMe3Dfu7LP6mpBN7JLTUA8ZAwZBZAfdl8FECnwmggR9QB99A302WNIKaqeHI','https://graph.facebook.com/v13.0/?scrape=true&id=http%3A%2F%2Fvancouversun.com%2F&access_token=EAAEyJgtqwrgBAH4jIZBao06MXYyWSCFxRR9AtZCIAJCoGo1KS4t5CFZCVZAaKbgRdUKwsckBvkLGdZCDvNHZBysQesSaRasLbxqUdZAy6kNBVz2kZATZCyuKIIyB5L9cJjxeJuUmLouenabaMCkGB4VwAGFIAMLq9RZAD3ZCNSVYQt9pTyYi9KV5KbZAfM1blARpZCY9BMzEUxjm1iwZDZD']\n",
    "res = []\n",
    "for i in lst:\n",
    "    res.append(get_data(i))\n",
    "    print(get_data(i))\n",
    "\n",
    "    "
   ]
  },
  {
   "cell_type": "code",
   "execution_count": 28,
   "id": "bad37cc4",
   "metadata": {},
   "outputs": [
    {
     "ename": "ApifyApiError",
     "evalue": "User was not found or authentication token is not valid",
     "output_type": "error",
     "traceback": [
      "\u001b[0;31m---------------------------------------------------------------------------\u001b[0m",
      "\u001b[0;31mApifyApiError\u001b[0m                             Traceback (most recent call last)",
      "\u001b[0;32m/tmp/ipykernel_74474/3244408828.py\u001b[0m in \u001b[0;36m<module>\u001b[0;34m\u001b[0m\n\u001b[1;32m     34\u001b[0m \u001b[0;34m\u001b[0m\u001b[0m\n\u001b[1;32m     35\u001b[0m \u001b[0;31m# Run the actor and wait for it to finish\u001b[0m\u001b[0;34m\u001b[0m\u001b[0;34m\u001b[0m\u001b[0m\n\u001b[0;32m---> 36\u001b[0;31m \u001b[0mrun\u001b[0m \u001b[0;34m=\u001b[0m \u001b[0mclient\u001b[0m\u001b[0;34m.\u001b[0m\u001b[0mactor\u001b[0m\u001b[0;34m(\u001b[0m\u001b[0;34m\"pocesar/facebook-pages-scraper\"\u001b[0m\u001b[0;34m)\u001b[0m\u001b[0;34m.\u001b[0m\u001b[0mcall\u001b[0m\u001b[0;34m(\u001b[0m\u001b[0mrun_input\u001b[0m\u001b[0;34m=\u001b[0m\u001b[0mrun_input\u001b[0m\u001b[0;34m)\u001b[0m\u001b[0;34m\u001b[0m\u001b[0;34m\u001b[0m\u001b[0m\n\u001b[0m\u001b[1;32m     37\u001b[0m \u001b[0;34m\u001b[0m\u001b[0m\n\u001b[1;32m     38\u001b[0m \u001b[0;31m# Fetch and print actor results from the run's dataset (if there are any)\u001b[0m\u001b[0;34m\u001b[0m\u001b[0;34m\u001b[0m\u001b[0m\n",
      "\u001b[0;32m~/anaconda3/lib/python3.9/site-packages/apify_client/clients/resource_clients/actor.py\u001b[0m in \u001b[0;36mcall\u001b[0;34m(self, run_input, content_type, build, memory_mbytes, timeout_secs, webhooks, wait_secs)\u001b[0m\n\u001b[1;32m    224\u001b[0m             \u001b[0mdict\u001b[0m\u001b[0;34m:\u001b[0m \u001b[0mThe\u001b[0m \u001b[0mrun\u001b[0m \u001b[0mobject\u001b[0m\u001b[0;34m\u001b[0m\u001b[0;34m\u001b[0m\u001b[0m\n\u001b[1;32m    225\u001b[0m         \"\"\"\n\u001b[0;32m--> 226\u001b[0;31m         started_run = self.start(\n\u001b[0m\u001b[1;32m    227\u001b[0m             \u001b[0mrun_input\u001b[0m\u001b[0;34m=\u001b[0m\u001b[0mrun_input\u001b[0m\u001b[0;34m,\u001b[0m\u001b[0;34m\u001b[0m\u001b[0;34m\u001b[0m\u001b[0m\n\u001b[1;32m    228\u001b[0m             \u001b[0mcontent_type\u001b[0m\u001b[0;34m=\u001b[0m\u001b[0mcontent_type\u001b[0m\u001b[0;34m,\u001b[0m\u001b[0;34m\u001b[0m\u001b[0;34m\u001b[0m\u001b[0m\n",
      "\u001b[0;32m~/anaconda3/lib/python3.9/site-packages/apify_client/clients/resource_clients/actor.py\u001b[0m in \u001b[0;36mstart\u001b[0;34m(self, run_input, content_type, build, memory_mbytes, timeout_secs, wait_for_finish, webhooks)\u001b[0m\n\u001b[1;32m    180\u001b[0m         )\n\u001b[1;32m    181\u001b[0m \u001b[0;34m\u001b[0m\u001b[0m\n\u001b[0;32m--> 182\u001b[0;31m         response = self.http_client.call(\n\u001b[0m\u001b[1;32m    183\u001b[0m             \u001b[0murl\u001b[0m\u001b[0;34m=\u001b[0m\u001b[0mself\u001b[0m\u001b[0;34m.\u001b[0m\u001b[0m_url\u001b[0m\u001b[0;34m(\u001b[0m\u001b[0;34m'runs'\u001b[0m\u001b[0;34m)\u001b[0m\u001b[0;34m,\u001b[0m\u001b[0;34m\u001b[0m\u001b[0;34m\u001b[0m\u001b[0m\n\u001b[1;32m    184\u001b[0m             \u001b[0mmethod\u001b[0m\u001b[0;34m=\u001b[0m\u001b[0;34m'POST'\u001b[0m\u001b[0;34m,\u001b[0m\u001b[0;34m\u001b[0m\u001b[0;34m\u001b[0m\u001b[0m\n",
      "\u001b[0;32m~/anaconda3/lib/python3.9/site-packages/apify_client/_http_client.py\u001b[0m in \u001b[0;36mcall\u001b[0;34m(self, method, url, headers, params, data, json, stream, parse_response)\u001b[0m\n\u001b[1;32m     94\u001b[0m                 \u001b[0mbail\u001b[0m\u001b[0;34m(\u001b[0m\u001b[0mapi_error\u001b[0m\u001b[0;34m)\u001b[0m\u001b[0;34m\u001b[0m\u001b[0;34m\u001b[0m\u001b[0m\n\u001b[1;32m     95\u001b[0m \u001b[0;34m\u001b[0m\u001b[0m\n\u001b[0;32m---> 96\u001b[0;31m         return _retry_with_exp_backoff(\n\u001b[0m\u001b[1;32m     97\u001b[0m             \u001b[0m_make_request\u001b[0m\u001b[0;34m,\u001b[0m\u001b[0;34m\u001b[0m\u001b[0;34m\u001b[0m\u001b[0m\n\u001b[1;32m     98\u001b[0m             \u001b[0mmax_retries\u001b[0m\u001b[0;34m=\u001b[0m\u001b[0mself\u001b[0m\u001b[0;34m.\u001b[0m\u001b[0mmax_retries\u001b[0m\u001b[0;34m,\u001b[0m\u001b[0;34m\u001b[0m\u001b[0;34m\u001b[0m\u001b[0m\n",
      "\u001b[0;32m~/anaconda3/lib/python3.9/site-packages/apify_client/_utils.py\u001b[0m in \u001b[0;36m_retry_with_exp_backoff\u001b[0;34m(func, max_retries, backoff_base_millis, backoff_factor, random_factor)\u001b[0m\n\u001b[1;32m    114\u001b[0m         \u001b[0;32mexcept\u001b[0m \u001b[0mException\u001b[0m \u001b[0;32mas\u001b[0m \u001b[0me\u001b[0m\u001b[0;34m:\u001b[0m\u001b[0;34m\u001b[0m\u001b[0;34m\u001b[0m\u001b[0m\n\u001b[1;32m    115\u001b[0m             \u001b[0;32mif\u001b[0m \u001b[0;32mnot\u001b[0m \u001b[0mswallow\u001b[0m\u001b[0;34m:\u001b[0m\u001b[0;34m\u001b[0m\u001b[0;34m\u001b[0m\u001b[0m\n\u001b[0;32m--> 116\u001b[0;31m                 \u001b[0;32mraise\u001b[0m \u001b[0me\u001b[0m\u001b[0;34m\u001b[0m\u001b[0;34m\u001b[0m\u001b[0m\n\u001b[0m\u001b[1;32m    117\u001b[0m \u001b[0;34m\u001b[0m\u001b[0m\n\u001b[1;32m    118\u001b[0m         \u001b[0mrandom_sleep_factor\u001b[0m \u001b[0;34m=\u001b[0m \u001b[0mrandom\u001b[0m\u001b[0;34m.\u001b[0m\u001b[0muniform\u001b[0m\u001b[0;34m(\u001b[0m\u001b[0;36m1\u001b[0m\u001b[0;34m,\u001b[0m \u001b[0;36m1\u001b[0m \u001b[0;34m+\u001b[0m \u001b[0mrandom_factor\u001b[0m\u001b[0;34m)\u001b[0m\u001b[0;34m\u001b[0m\u001b[0;34m\u001b[0m\u001b[0m\n",
      "\u001b[0;32m~/anaconda3/lib/python3.9/site-packages/apify_client/_utils.py\u001b[0m in \u001b[0;36m_retry_with_exp_backoff\u001b[0;34m(func, max_retries, backoff_base_millis, backoff_factor, random_factor)\u001b[0m\n\u001b[1;32m    111\u001b[0m     \u001b[0;32mfor\u001b[0m \u001b[0mattempt\u001b[0m \u001b[0;32min\u001b[0m \u001b[0mrange\u001b[0m\u001b[0;34m(\u001b[0m\u001b[0;36m1\u001b[0m\u001b[0;34m,\u001b[0m \u001b[0mmax_retries\u001b[0m \u001b[0;34m+\u001b[0m \u001b[0;36m1\u001b[0m\u001b[0;34m)\u001b[0m\u001b[0;34m:\u001b[0m\u001b[0;34m\u001b[0m\u001b[0;34m\u001b[0m\u001b[0m\n\u001b[1;32m    112\u001b[0m         \u001b[0;32mtry\u001b[0m\u001b[0;34m:\u001b[0m\u001b[0;34m\u001b[0m\u001b[0;34m\u001b[0m\u001b[0m\n\u001b[0;32m--> 113\u001b[0;31m             \u001b[0;32mreturn\u001b[0m \u001b[0mfunc\u001b[0m\u001b[0;34m(\u001b[0m\u001b[0mbail\u001b[0m\u001b[0;34m,\u001b[0m \u001b[0mattempt\u001b[0m\u001b[0;34m)\u001b[0m\u001b[0;34m\u001b[0m\u001b[0;34m\u001b[0m\u001b[0m\n\u001b[0m\u001b[1;32m    114\u001b[0m         \u001b[0;32mexcept\u001b[0m \u001b[0mException\u001b[0m \u001b[0;32mas\u001b[0m \u001b[0me\u001b[0m\u001b[0;34m:\u001b[0m\u001b[0;34m\u001b[0m\u001b[0;34m\u001b[0m\u001b[0m\n\u001b[1;32m    115\u001b[0m             \u001b[0;32mif\u001b[0m \u001b[0;32mnot\u001b[0m \u001b[0mswallow\u001b[0m\u001b[0;34m:\u001b[0m\u001b[0;34m\u001b[0m\u001b[0;34m\u001b[0m\u001b[0m\n",
      "\u001b[0;32m~/anaconda3/lib/python3.9/site-packages/apify_client/_http_client.py\u001b[0m in \u001b[0;36m_make_request\u001b[0;34m(bail, attempt)\u001b[0m\n\u001b[1;32m     92\u001b[0m                 \u001b[0;32mraise\u001b[0m \u001b[0mapi_error\u001b[0m\u001b[0;34m\u001b[0m\u001b[0;34m\u001b[0m\u001b[0m\n\u001b[1;32m     93\u001b[0m             \u001b[0;32melse\u001b[0m\u001b[0;34m:\u001b[0m\u001b[0;34m\u001b[0m\u001b[0;34m\u001b[0m\u001b[0m\n\u001b[0;32m---> 94\u001b[0;31m                 \u001b[0mbail\u001b[0m\u001b[0;34m(\u001b[0m\u001b[0mapi_error\u001b[0m\u001b[0;34m)\u001b[0m\u001b[0;34m\u001b[0m\u001b[0;34m\u001b[0m\u001b[0m\n\u001b[0m\u001b[1;32m     95\u001b[0m \u001b[0;34m\u001b[0m\u001b[0m\n\u001b[1;32m     96\u001b[0m         return _retry_with_exp_backoff(\n",
      "\u001b[0;32m~/anaconda3/lib/python3.9/site-packages/apify_client/_utils.py\u001b[0m in \u001b[0;36mbail\u001b[0;34m(exception)\u001b[0m\n\u001b[1;32m    107\u001b[0m         \u001b[0;32mnonlocal\u001b[0m \u001b[0mswallow\u001b[0m\u001b[0;34m\u001b[0m\u001b[0;34m\u001b[0m\u001b[0m\n\u001b[1;32m    108\u001b[0m         \u001b[0mswallow\u001b[0m \u001b[0;34m=\u001b[0m \u001b[0;32mFalse\u001b[0m\u001b[0;34m\u001b[0m\u001b[0;34m\u001b[0m\u001b[0m\n\u001b[0;32m--> 109\u001b[0;31m         \u001b[0;32mraise\u001b[0m \u001b[0mexception\u001b[0m\u001b[0;34m\u001b[0m\u001b[0;34m\u001b[0m\u001b[0m\n\u001b[0m\u001b[1;32m    110\u001b[0m \u001b[0;34m\u001b[0m\u001b[0m\n\u001b[1;32m    111\u001b[0m     \u001b[0;32mfor\u001b[0m \u001b[0mattempt\u001b[0m \u001b[0;32min\u001b[0m \u001b[0mrange\u001b[0m\u001b[0;34m(\u001b[0m\u001b[0;36m1\u001b[0m\u001b[0;34m,\u001b[0m \u001b[0mmax_retries\u001b[0m \u001b[0;34m+\u001b[0m \u001b[0;36m1\u001b[0m\u001b[0;34m)\u001b[0m\u001b[0;34m:\u001b[0m\u001b[0;34m\u001b[0m\u001b[0;34m\u001b[0m\u001b[0m\n",
      "\u001b[0;31mApifyApiError\u001b[0m: User was not found or authentication token is not valid"
     ]
    }
   ],
   "source": [
    "from apify_client import ApifyClient\n",
    "\n",
    "# Initialize the ApifyClient with your API token\n",
    "client = ApifyClient(\"EAAEyJgtqwrgBABGw1QMVDmWPOxEyUznjVvIDmQeZBv7yXegNOyZBO3x9hckDE2FozM06wVEY3rVgPaoP5sOxNwwklidLMZCu6CuCOoKnamy0ZBCMjRB9OFVxkofz6lAuprmjgNduskttxZC76l17N7Cngv15drcawseZAdpJZBatLreY8tlZAAXBaJ2ZAlvxpP5yOUCW6RfArqUTVJ5CYroPwZB1qGFmVaYDlix7glKDma1ZCIRnmE8zanL\")\n",
    "\n",
    "# Prepare the actor input\n",
    "run_input = {\n",
    "    \"startUrls\": [{ \"url\": \"https://www.facebook.com/apifytech/\" }],\n",
    "    \"language\": \"en-US\",\n",
    "    \"searchLimit\": 10,\n",
    "    \"maxPosts\": 3,\n",
    "    \"maxPostComments\": 15,\n",
    "    \"maxReviews\": 3,\n",
    "    \"proxyConfiguration\": {\n",
    "        \"useApifyProxy\": True,\n",
    "        \"apifyProxyGroups\": [\"RESIDENTIAL\"],\n",
    "    },\n",
    "    \"extendOutputFunction\": \"\"\"async ({ data, item, customData, Apify }) => {\n",
    "    return item;\n",
    "}\"\"\",\n",
    "    \"extendScraperFunction\": \"\"\"async ({ page, LABELS, label, request, username, map, fns, customData, Apify }) => {\n",
    "    if (label === 'HANDLE') {\n",
    "        // this is inside the handlePageFunction\n",
    "    } else if (label === 'SETUP') {\n",
    "        // before starting the crawler\n",
    "    } else if (label === 'FINISH') {\n",
    "        // after finishing the crawler\n",
    "    }\n",
    "}\"\"\",\n",
    "    \"customData\": {},\n",
    "    \"maxRequestRetries\": 5,\n",
    "    \"maxConcurrency\": 20,\n",
    "}\n",
    "\n",
    "# Run the actor and wait for it to finish\n",
    "run = client.actor(\"pocesar/facebook-pages-scraper\").call(run_input=run_input)\n",
    "\n",
    "# Fetch and print actor results from the run's dataset (if there are any)\n",
    "for item in client.dataset(run[\"defaultDatasetId\"]).iterate_items():\n",
    "    print(item)"
   ]
  },
  {
   "cell_type": "code",
   "execution_count": null,
   "id": "2c0fe25e",
   "metadata": {},
   "outputs": [],
   "source": []
  }
 ],
 "metadata": {
  "kernelspec": {
   "display_name": "Python 3 (ipykernel)",
   "language": "python",
   "name": "python3"
  },
  "language_info": {
   "codemirror_mode": {
    "name": "ipython",
    "version": 3
   },
   "file_extension": ".py",
   "mimetype": "text/x-python",
   "name": "python",
   "nbconvert_exporter": "python",
   "pygments_lexer": "ipython3",
   "version": "3.9.7"
  }
 },
 "nbformat": 4,
 "nbformat_minor": 5
}
