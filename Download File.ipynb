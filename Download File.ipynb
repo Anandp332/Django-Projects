{
 "cells": [
  {
   "cell_type": "code",
   "execution_count": 14,
   "id": "f09275d1",
   "metadata": {},
   "outputs": [
    {
     "name": "stderr",
     "output_type": "stream",
     "text": [
      "/tmp/ipykernel_6605/185669906.py:3: DeprecationWarning: executable_path has been deprecated, please pass in a Service object\n",
      "  driver = webdriver.Chrome('/usr/bin/chromedriver')\n"
     ]
    }
   ],
   "source": [
    "from selenium import webdriver\n",
    "from webdriver_manager.chrome import ChromeDriverManager\n",
    "driver = webdriver.Chrome('/usr/bin/chromedriver')\n",
    "driver.get('https://www.dropbox.com/sh/wdleu9o7jj1kk7v/AACmlkoLQCGQ8V0vmF4e_Y4ba?dl=0')\n"
   ]
  },
  {
   "cell_type": "code",
   "execution_count": 13,
   "id": "71e875b2",
   "metadata": {},
   "outputs": [
    {
     "name": "stderr",
     "output_type": "stream",
     "text": [
      "/tmp/ipykernel_6605/2113007758.py:2: DeprecationWarning: find_element_by_* commands are deprecated. Please use find_element() instead\n",
      "  btn = driver.find_element_by_class_name('dig-Button-content')\n"
     ]
    }
   ],
   "source": [
    "update_time = '3/13/2022 6:30 pm'\n",
    "btn = driver.find_element_by_class_name('dig-Button-content')\n",
    "btn.click()"
   ]
  },
  {
   "cell_type": "code",
   "execution_count": 11,
   "id": "9913dba6",
   "metadata": {},
   "outputs": [],
   "source": []
  },
  {
   "cell_type": "code",
   "execution_count": 15,
   "id": "51502109",
   "metadata": {},
   "outputs": [],
   "source": [
    "import dropbox"
   ]
  },
  {
   "cell_type": "code",
   "execution_count": 17,
   "id": "a9577622",
   "metadata": {},
   "outputs": [],
   "source": [
    "dbx = dropbox.Dropbox('sl.BDxUvSEb-2OXlwY0w2f-J7ApYLhRj-Wy8OnqC4_mlCZfM9Cn8UIFA4VvWecmMh8j9EfNcHVxwjWsEc0YXQv-agWQ0HE3Ccwxbr7h3YAou98F4A9sbRL-kv9RmVS5jkB3N4ao_V4')\n"
   ]
  },
  {
   "cell_type": "code",
   "execution_count": 18,
   "id": "539de9e4",
   "metadata": {},
   "outputs": [
    {
     "data": {
      "text/plain": [
       "FullAccount(account_id='dbid:AAAB1o3NWfHuNS92hvWhITtBwriJNARo8BQ', account_type=AccountType('basic', None), country='IN', disabled=False, email='anandp332i@gmail.com', email_verified=True, is_paired=False, locale='en', name=Name(abbreviated_name='AP', display_name='Anand P', familiar_name='Anand', given_name='Anand', surname='P'), profile_photo_url=NOT_SET, referral_link='https://www.dropbox.com/referrals/AAAd8aZ6zzTRcqU40waSw8K0PcKt0jImWVQ?src=app9-11802704', root_info=UserRootInfo(home_namespace_id='10245202848', root_namespace_id='10245202848'), team=NOT_SET, team_member_id=NOT_SET)"
      ]
     },
     "execution_count": 18,
     "metadata": {},
     "output_type": "execute_result"
    }
   ],
   "source": [
    "dbx.users_get_current_account()"
   ]
  },
  {
   "cell_type": "code",
   "execution_count": null,
   "id": "64c2a522",
   "metadata": {},
   "outputs": [],
   "source": []
  },
  {
   "cell_type": "code",
   "execution_count": null,
   "id": "30e5d19e",
   "metadata": {},
   "outputs": [],
   "source": []
  },
  {
   "cell_type": "code",
   "execution_count": null,
   "id": "c9d5d428",
   "metadata": {},
   "outputs": [],
   "source": []
  },
  {
   "cell_type": "code",
   "execution_count": 1,
   "id": "11da86ca",
   "metadata": {},
   "outputs": [
    {
     "ename": "ModuleNotFoundError",
     "evalue": "No module named 'searx'",
     "output_type": "error",
     "traceback": [
      "\u001b[0;31m---------------------------------------------------------------------------\u001b[0m",
      "\u001b[0;31mModuleNotFoundError\u001b[0m                       Traceback (most recent call last)",
      "\u001b[0;32m/tmp/ipykernel_21212/1498503869.py\u001b[0m in \u001b[0;36m<module>\u001b[0;34m\u001b[0m\n\u001b[1;32m      1\u001b[0m \u001b[0;32mfrom\u001b[0m \u001b[0mlxml\u001b[0m \u001b[0;32mimport\u001b[0m \u001b[0mhtml\u001b[0m\u001b[0;34m\u001b[0m\u001b[0;34m\u001b[0m\u001b[0m\n\u001b[1;32m      2\u001b[0m \u001b[0;32mfrom\u001b[0m \u001b[0mdatetime\u001b[0m \u001b[0;32mimport\u001b[0m \u001b[0mdatetime\u001b[0m\u001b[0;34m\u001b[0m\u001b[0;34m\u001b[0m\u001b[0m\n\u001b[0;32m----> 3\u001b[0;31m \u001b[0;32mfrom\u001b[0m \u001b[0msearx\u001b[0m\u001b[0;34m.\u001b[0m\u001b[0mutils\u001b[0m \u001b[0;32mimport\u001b[0m \u001b[0meval_xpath_list\u001b[0m\u001b[0;34m,\u001b[0m \u001b[0meval_xpath_getindex\u001b[0m\u001b[0;34m\u001b[0m\u001b[0;34m\u001b[0m\u001b[0m\n\u001b[0m\u001b[1;32m      4\u001b[0m \u001b[0;34m\u001b[0m\u001b[0m\n\u001b[1;32m      5\u001b[0m \u001b[0;31m# about\u001b[0m\u001b[0;34m\u001b[0m\u001b[0;34m\u001b[0m\u001b[0m\n",
      "\u001b[0;31mModuleNotFoundError\u001b[0m: No module named 'searx'"
     ]
    }
   ],
   "source": [
    "\n",
    "from lxml import html\n",
    "from datetime import datetime\n",
    "from searx.utils import eval_xpath_list, eval_xpath_getindex\n",
    "\n",
    "\n",
    "\n",
    "\n",
    "def eval_xpath(element, xpath_spec):\n",
    "    \n",
    "    xpath = get_xpath(xpath_spec)\n",
    "    try:\n",
    "        return xpath(element)\n",
    "    except XPathError as e:\n",
    "        arg = ' '.join([str(i) for i in e.args])\n",
    "        raise SearxEngineXPathException(xpath_spec, arg) from e\n",
    "\n",
    "def eval_xpath_list(element, xpath_spec, min_len=None):\n",
    "    \n",
    "    result = eval_xpath(element, xpath_spec)\n",
    "about = {\n",
    "    \"website\": 'https://arxiv.org',\n",
    "    \"wikidata_id\": 'Q118398',\n",
    "    \"official_api_documentation\": 'https://arxiv.org/help/api',\n",
    "    \"use_official_api\": True,\n",
    "    \"require_api_key\": False,\n",
    "    \"results\": 'XML-RSS',\n",
    "}\n",
    "\n",
    "categories = ['science']\n",
    "paging = True\n",
    "\n",
    "base_url = 'https://export.arxiv.org/api/query?search_query=all:'\\\n",
    "           + '{query}&start={offset}&max_results={number_of_results}'\n",
    "\n",
    "# engine dependent config\n",
    "number_of_results = 10\n",
    "\n",
    "\n",
    "def request(query, params):\n",
    "    # basic search\n",
    "    offset = (params['pageno'] - 1) * number_of_results\n",
    "\n",
    "    string_args = dict(query=query,\n",
    "                       offset=offset,\n",
    "                       number_of_results=number_of_results)\n",
    "\n",
    "    params['url'] = base_url.format(**string_args)\n",
    "\n",
    "    return params\n",
    "\n",
    "\n",
    "def response(resp):\n",
    "    results = []\n",
    "\n",
    "    dom = html.fromstring(resp.content)\n",
    "\n",
    "    for entry in eval_xpath_list(dom, '//entry'):\n",
    "        title = eval_xpath_getindex(entry, './/title', 0).text\n",
    "\n",
    "        url = eval_xpath_getindex(entry, './/id', 0).text\n",
    "\n",
    "        content_string = '{doi_content}{abstract_content}'\n",
    "\n",
    "        abstract = eval_xpath_getindex(entry, './/summary', 0).text\n",
    "\n",
    "        #  If a doi is available, add it to the snipppet\n",
    "        doi_element = eval_xpath_getindex(entry, './/link[@title=\"doi\"]', 0, default=None)\n",
    "        doi_content = doi_element.text if doi_element is not None else ''\n",
    "        content = content_string.format(doi_content=doi_content, abstract_content=abstract)\n",
    "\n",
    "        if len(content) > 300:\n",
    "            content = content[0:300] + \"...\"\n",
    "        # TODO: center snippet on query term\n",
    "\n",
    "        publishedDate = datetime.strptime(eval_xpath_getindex(entry, './/published', 0).text, '%Y-%m-%dT%H:%M:%SZ')\n",
    "\n",
    "        res_dict = {'url': url,\n",
    "                    'title': title,\n",
    "                    'publishedDate': publishedDate,\n",
    "                    'content': content}\n",
    "\n",
    "        results.append(res_dict)\n",
    "\n",
    "    return results"
   ]
  },
  {
   "cell_type": "code",
   "execution_count": null,
   "id": "4f137dc4",
   "metadata": {},
   "outputs": [],
   "source": []
  }
 ],
 "metadata": {
  "kernelspec": {
   "display_name": "Python 3 (ipykernel)",
   "language": "python",
   "name": "python3"
  },
  "language_info": {
   "codemirror_mode": {
    "name": "ipython",
    "version": 3
   },
   "file_extension": ".py",
   "mimetype": "text/x-python",
   "name": "python",
   "nbconvert_exporter": "python",
   "pygments_lexer": "ipython3",
   "version": "3.9.7"
  }
 },
 "nbformat": 4,
 "nbformat_minor": 5
}
